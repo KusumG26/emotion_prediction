{
 "cells": [
  {
   "cell_type": "code",
   "execution_count": 1,
   "id": "60927add",
   "metadata": {},
   "outputs": [
    {
     "name": "stderr",
     "output_type": "stream",
     "text": [
      "[nltk_data] Downloading package stopwords to\n",
      "[nltk_data]     C:\\Users\\kusum\\AppData\\Roaming\\nltk_data...\n",
      "[nltk_data]   Package stopwords is already up-to-date!\n"
     ]
    }
   ],
   "source": [
    "import numpy as np\n",
    "import pandas as pd\n",
    "import re,string  # re vaneko regular expression \n",
    "import matplotlib.pyplot as plt\n",
    "from nltk.corpus import stopwords #stopword= kunai word sentence ma navayeni meaning dinxa vane testo word\n",
    "from nltk.stem import PorterStemmer #steamer le root word patta lagauxa(playing = play)\n",
    "from sklearn.feature_extraction.text import TfidfVectorizer #word lai number ma convert garne ani ajha futher preprocessing\n",
    "from sklearn.pipeline import Pipeline #data lai algo ma rakhda kun kun step bata pass hunxa vanera vanne\n",
    "from sklearn.metrics import classification_report, confusion_matrix\n",
    "from sklearn.model_selection import train_test_split\n",
    "from sklearn.feature_selection import SelectKBest, chi2\n",
    "import pickle\n",
    "import nltk\n",
    "nltk.download('stopwords')\n",
    "%matplotlib inline"
   ]
  },
  {
   "cell_type": "code",
   "execution_count": 6,
   "id": "906d5270",
   "metadata": {},
   "outputs": [
    {
     "data": {
      "text/html": [
       "<div>\n",
       "<style scoped>\n",
       "    .dataframe tbody tr th:only-of-type {\n",
       "        vertical-align: middle;\n",
       "    }\n",
       "\n",
       "    .dataframe tbody tr th {\n",
       "        vertical-align: top;\n",
       "    }\n",
       "\n",
       "    .dataframe thead th {\n",
       "        text-align: right;\n",
       "    }\n",
       "</style>\n",
       "<table border=\"1\" class=\"dataframe\">\n",
       "  <thead>\n",
       "    <tr style=\"text-align: right;\">\n",
       "      <th></th>\n",
       "      <th>Comment</th>\n",
       "      <th>Emotion</th>\n",
       "    </tr>\n",
       "  </thead>\n",
       "  <tbody>\n",
       "    <tr>\n",
       "      <th>1647</th>\n",
       "      <td>i tend to stop breathing when i m feeling stre...</td>\n",
       "      <td>anger</td>\n",
       "    </tr>\n",
       "    <tr>\n",
       "      <th>4311</th>\n",
       "      <td>ive been hearing about too many things happeni...</td>\n",
       "      <td>anger</td>\n",
       "    </tr>\n",
       "    <tr>\n",
       "      <th>2669</th>\n",
       "      <td>i hope not pagetitle khatsii feeling fearful</td>\n",
       "      <td>fear</td>\n",
       "    </tr>\n",
       "    <tr>\n",
       "      <th>3426</th>\n",
       "      <td>i like to be comfortable and usually silence h...</td>\n",
       "      <td>anger</td>\n",
       "    </tr>\n",
       "    <tr>\n",
       "      <th>1110</th>\n",
       "      <td>i feel like she was bitter towards people who ...</td>\n",
       "      <td>anger</td>\n",
       "    </tr>\n",
       "    <tr>\n",
       "      <th>...</th>\n",
       "      <td>...</td>\n",
       "      <td>...</td>\n",
       "    </tr>\n",
       "    <tr>\n",
       "      <th>1933</th>\n",
       "      <td>i dont want to approach this topic too lightly...</td>\n",
       "      <td>fear</td>\n",
       "    </tr>\n",
       "    <tr>\n",
       "      <th>5840</th>\n",
       "      <td>i get this strange feeling that even with peop...</td>\n",
       "      <td>joy</td>\n",
       "    </tr>\n",
       "    <tr>\n",
       "      <th>4407</th>\n",
       "      <td>i feel this violence is petty and impractical</td>\n",
       "      <td>anger</td>\n",
       "    </tr>\n",
       "    <tr>\n",
       "      <th>4347</th>\n",
       "      <td>i feel delicious absolutely darling and delicious</td>\n",
       "      <td>joy</td>\n",
       "    </tr>\n",
       "    <tr>\n",
       "      <th>3463</th>\n",
       "      <td>i didn t feel smug as i added the hardships of...</td>\n",
       "      <td>joy</td>\n",
       "    </tr>\n",
       "  </tbody>\n",
       "</table>\n",
       "<p>5937 rows × 2 columns</p>\n",
       "</div>"
      ],
      "text/plain": [
       "                                                Comment Emotion\n",
       "1647  i tend to stop breathing when i m feeling stre...   anger\n",
       "4311  ive been hearing about too many things happeni...   anger\n",
       "2669       i hope not pagetitle khatsii feeling fearful    fear\n",
       "3426  i like to be comfortable and usually silence h...   anger\n",
       "1110  i feel like she was bitter towards people who ...   anger\n",
       "...                                                 ...     ...\n",
       "1933  i dont want to approach this topic too lightly...    fear\n",
       "5840  i get this strange feeling that even with peop...     joy\n",
       "4407      i feel this violence is petty and impractical   anger\n",
       "4347  i feel delicious absolutely darling and delicious     joy\n",
       "3463  i didn t feel smug as i added the hardships of...     joy\n",
       "\n",
       "[5937 rows x 2 columns]"
      ]
     },
     "execution_count": 6,
     "metadata": {},
     "output_type": "execute_result"
    }
   ],
   "source": [
    "df = pd.read_csv('Emotion_classify_Data.csv', encoding = 'latin1')\n",
    "df = df.sample(frac = 1) #suffle gareko same same data snagai huna sakxa tei vayera\n",
    "df"
   ]
  },
  {
   "cell_type": "code",
   "execution_count": 11,
   "id": "65d738ff",
   "metadata": {},
   "outputs": [
    {
     "data": {
      "text/plain": [
       "'i seriously hate one subject to death but now i feel reluctant to drop it'"
      ]
     },
     "execution_count": 11,
     "metadata": {},
     "output_type": "execute_result"
    }
   ],
   "source": [
    "df['Comment'][0]"
   ]
  },
  {
   "cell_type": "code",
   "execution_count": 14,
   "id": "ad1ed615",
   "metadata": {},
   "outputs": [
    {
     "name": "stdout",
     "output_type": "stream",
     "text": [
      "<class 'pandas.core.frame.DataFrame'>\n",
      "Int64Index: 5937 entries, 1647 to 3463\n",
      "Data columns (total 2 columns):\n",
      " #   Column   Non-Null Count  Dtype \n",
      "---  ------   --------------  ----- \n",
      " 0   Comment  5937 non-null   object\n",
      " 1   Emotion  5937 non-null   object\n",
      "dtypes: object(2)\n",
      "memory usage: 268.2+ KB\n"
     ]
    }
   ],
   "source": [
    "df.info()"
   ]
  },
  {
   "cell_type": "code",
   "execution_count": 16,
   "id": "b67264ec",
   "metadata": {},
   "outputs": [
    {
     "data": {
      "text/plain": [
       "{'anger', 'fear', 'joy'}"
      ]
     },
     "execution_count": 16,
     "metadata": {},
     "output_type": "execute_result"
    }
   ],
   "source": [
    "(set(df['Emotion']))"
   ]
  },
  {
   "cell_type": "code",
   "execution_count": 20,
   "id": "eec7728c",
   "metadata": {},
   "outputs": [
    {
     "data": {
      "image/png": "[encoded data removed]",
      "text/plain": [
       "<Figure size 640x480 with 1 Axes>"
      ]
     },
     "metadata": {},
     "output_type": "display_data"
    }
   ],
   "source": [
    "df.groupby('Emotion').Emotion.count().plot.bar()\n",
    "plt.show()"
   ]
  },
  {
   "cell_type": "code",
   "execution_count": 22,
   "id": "0c2bea83",
   "metadata": {},
   "outputs": [
    {
     "name": "stdout",
     "output_type": "stream",
     "text": [
      "['i', 'me', 'my', 'myself', 'we', 'our', 'ours', 'ourselves', 'you', \"you're\", \"you've\", \"you'll\", \"you'd\", 'your', 'yours', 'yourself', 'yourselves', 'he', 'him', 'his', 'himself', 'she', \"she's\", 'her', 'hers', 'herself', 'it', \"it's\", 'its', 'itself', 'they', 'them', 'their', 'theirs', 'themselves', 'what', 'which', 'who', 'whom', 'this', 'that', \"that'll\", 'these', 'those', 'am', 'is', 'are', 'was', 'were', 'be', 'been', 'being', 'have', 'has', 'had', 'having', 'do', 'does', 'did', 'doing', 'a', 'an', 'the', 'and', 'but', 'if', 'or', 'because', 'as', 'until', 'while', 'of', 'at', 'by', 'for', 'with', 'about', 'against', 'between', 'into', 'through', 'during', 'before', 'after', 'above', 'below', 'to', 'from', 'up', 'down', 'in', 'out', 'on', 'off', 'over', 'under', 'again', 'further', 'then', 'once', 'here', 'there', 'when', 'where', 'why', 'how', 'all', 'any', 'both', 'each', 'few', 'more', 'most', 'other', 'some', 'such', 'no', 'nor', 'not', 'only', 'own', 'same', 'so', 'than', 'too', 'very', 's', 't', 'can', 'will', 'just', 'don', \"don't\", 'should', \"should've\", 'now', 'd', 'll', 'm', 'o', 're', 've', 'y', 'ain', 'aren', \"aren't\", 'couldn', \"couldn't\", 'didn', \"didn't\", 'doesn', \"doesn't\", 'hadn', \"hadn't\", 'hasn', \"hasn't\", 'haven', \"haven't\", 'isn', \"isn't\", 'ma', 'mightn', \"mightn't\", 'mustn', \"mustn't\", 'needn', \"needn't\", 'shan', \"shan't\", 'shouldn', \"shouldn't\", 'wasn', \"wasn't\", 'weren', \"weren't\", 'won', \"won't\", 'wouldn', \"wouldn't\"]\n"
     ]
    }
   ],
   "source": [
    "# nltk.download('stopwords')\n",
    "words = stopwords.words(\"english\")\n",
    "print(words)"
   ]
  },
  {
   "cell_type": "code",
   "execution_count": 39,
   "id": "14c7d03e",
   "metadata": {},
   "outputs": [],
   "source": [
    "# Training model\n",
    "from sklearn.linear_model import LogisticRegression\n",
    "log_regression = LogisticRegression()\n",
    "\n",
    "vectorizer = TfidfVectorizer()\n",
    "X = df['Comment']\n",
    "Y = df['Emotion']\n",
    "\n",
    "X_train, X_test, y_train, y_test = train_test_split(X, Y, test_size=0.15) #Splitting dataset\n",
    "\n",
    "\n",
    "# #Creating Pipeline\n",
    "#pipeline vaneko architecture nai ho\n",
    "pipeline = Pipeline([('vect', vectorizer),\n",
    "                     ('chi',  SelectKBest(chi2, k=1000)),\n",
    "                     ('clf', LogisticRegression())])\n",
    "\n",
    "\n",
    "# #Training model\n",
    "model = pipeline.fit(X_train, y_train)\n",
    "\n"
   ]
  },
  {
   "cell_type": "code",
   "execution_count": 27,
   "id": "b555928a",
   "metadata": {},
   "outputs": [
    {
     "data": {
      "text/plain": [
       "990     i feel most passionate and artistic and settle...\n",
       "9       i feel like i ve regained another vital part o...\n",
       "5151    i was feeling more than a little apprehensive ...\n",
       "2112    i experienced that feeling that people get whe...\n",
       "824            i feel content just because of the weather\n",
       "                              ...                        \n",
       "264       im feeling a much more festive with the tree in\n",
       "4577    i repeat over and over in my life in which i t...\n",
       "866     i want to find my essence and my substance and...\n",
       "2795    i can assume they are not feeling the cold lik...\n",
       "1083    i want to be positive in the morning i will ne...\n",
       "Name: Comment, Length: 891, dtype: object"
      ]
     },
     "execution_count": 27,
     "metadata": {},
     "output_type": "execute_result"
    }
   ],
   "source": [
    "X_test"
   ]
  },
  {
   "cell_type": "code",
   "execution_count": 29,
   "id": "a62f1a86",
   "metadata": {},
   "outputs": [
    {
     "data": {
      "text/plain": [
       "5379    i feel like its perfect a w see youtube has it...\n",
       "3863    i have had some very emotional nights of cryin...\n",
       "575     i was feeling quite mellow and i wanted a soft...\n",
       "5836    i just feel like being sarcastic and mean and ...\n",
       "2755    i feel i cant talk move sometimes even breath ...\n",
       "                              ...                        \n",
       "5322                    i did not feel in the least smart\n",
       "5265    i feel like this was a milestone race and i ve...\n",
       "2210    i feel like i ve been welcomed a tight knit fa...\n",
       "4593    i got caught shoplifting a package of gummy bears\n",
       "5442    i don t feel agitated some part of me thinks t...\n",
       "Name: Comment, Length: 5046, dtype: object"
      ]
     },
     "execution_count": 29,
     "metadata": {},
     "output_type": "execute_result"
    }
   ],
   "source": [
    "X_train"
   ]
  },
  {
   "cell_type": "code",
   "execution_count": 40,
   "id": "4a083b50",
   "metadata": {},
   "outputs": [
    {
     "name": "stdout",
     "output_type": "stream",
     "text": [
      "0.9517396184062851\n"
     ]
    }
   ],
   "source": [
    "#Accuracy\n",
    "from sklearn.metrics import accuracy_score\n",
    "predict_emotions = model.predict(X_test)\n",
    "\n",
    "# print(predict_news_cat)\n",
    "print(accuracy_score(y_test,predict_emotions))\n"
   ]
  },
  {
   "cell_type": "code",
   "execution_count": 48,
   "id": "57b17337",
   "metadata": {},
   "outputs": [
    {
     "name": "stdout",
     "output_type": "stream",
     "text": [
      "Enter text = i am happy\n",
      "Predicted news category =  joy\n"
     ]
    }
   ],
   "source": [
    "text = input(\"Enter text = \")\n",
    "data = {'predict_emotion':[text]}\n",
    "data_df = pd.DataFrame(data)\n",
    "# news_data_df\n",
    "emotion_prediction = model.predict(data_df['predict_emotion']) #dataframe name ani kun key ni lekhne\n",
    "print(\"Predicted news category = \",emotion_prediction[0])"
   ]
  },
  {
   "cell_type": "code",
   "execution_count": 50,
   "id": "35e04683",
   "metadata": {},
   "outputs": [
    {
     "name": "stdout",
     "output_type": "stream",
     "text": [
      "              precision    recall  f1-score   support\n",
      "\n",
      "       anger       0.95      0.97      0.96       297\n",
      "        fear       0.98      0.91      0.94       308\n",
      "         joy       0.93      0.98      0.96       286\n",
      "\n",
      "    accuracy                           0.95       891\n",
      "   macro avg       0.95      0.95      0.95       891\n",
      "weighted avg       0.95      0.95      0.95       891\n",
      "\n",
      "[[288  13   3]\n",
      " [  5 279   2]\n",
      " [  4  16 281]]\n"
     ]
    }
   ],
   "source": [
    "# confusion matrix and classification report(precision, recall, F1-score)\n",
    "ytest = np.array(y_test)\n",
    "print(classification_report(ytest,model.predict(X_test)))\n",
    "print(confusion_matrix(model.predict(X_test),ytest))"
   ]
  },
  {
   "cell_type": "code",
   "execution_count": 51,
   "id": "d6397a8d",
   "metadata": {},
   "outputs": [
    {
     "data": {
      "image/png": "[encoded data removed]",
      "text/plain": [
       "<Figure size 800x800 with 2 Axes>"
      ]
     },
     "metadata": {},
     "output_type": "display_data"
    }
   ],
   "source": [
    "import matplotlib.pyplot as plt\n",
    "from sklearn.metrics import ConfusionMatrixDisplay\n",
    "cm = confusion_matrix(y_test,model.predict(X_test))\n",
    "# Change figure size and increase dpi for better resolution\n",
    "# and get reference to axes object\n",
    "fig, ax = plt.subplots(figsize=(8,8), dpi=100)\n",
    "class_names = ['positive','neutral','negative']\n",
    "# initialize using the raw 2D confusion matrix\n",
    "# and output labels (in our case, it's 0 and 1)\n",
    "display = ConfusionMatrixDisplay(cm, display_labels=class_names)\n",
    "\n",
    "# set the plot title using the axes object\n",
    "ax.set(title='Confusion Matrix for the  Text Classification Model')\n",
    "\n",
    "# show the plot.\n",
    "# Pass the parameter ax to show customizations (ex. title)\n",
    "display.plot(ax=ax);"
   ]
  }
 ],
 "metadata": {
  "kernelspec": {
   "display_name": "Python 3 (ipykernel)",
   "language": "python",
   "name": "python3"
  },
  "language_info": {
   "codemirror_mode": {
    "name": "ipython",
    "version": 3
   },
   "file_extension": ".py",
   "mimetype": "text/x-python",
   "name": "python",
   "nbconvert_exporter": "python",
   "pygments_lexer": "ipython3",
   "version": "3.9.13"
  }
 },
 "nbformat": 4,
 "nbformat_minor": 5
}
